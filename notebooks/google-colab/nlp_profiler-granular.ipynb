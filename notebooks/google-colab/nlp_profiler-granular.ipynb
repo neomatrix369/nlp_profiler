{
 "cells": [
  {
   "cell_type": "markdown",
   "metadata": {
    "id": "view-in-github",
    "colab_type": "text"
   },
   "source": [
    "<a href=\"https://colab.research.google.com/github/neomatrix369/nlp_profiler/blob/master/notebooks/google-colab/nlp_profiler-granular.ipynb\" target=\"_parent\"><img src=\"https://colab.research.google.com/assets/colab-badge.svg\" alt=\"Open In Colab\"/></a>"
   ]
  },
  {
   "cell_type": "code",
   "execution_count": 3,
   "metadata": {},
   "outputs": [
    {
     "name": "stdout",
     "output_type": "stream",
     "text": [
      "running install\n",
      "running bdist_egg\n",
      "running egg_info\n",
      "writing nlp_profiler.egg-info/PKG-INFO\n",
      "writing dependency_links to nlp_profiler.egg-info/dependency_links.txt\n",
      "writing requirements to nlp_profiler.egg-info/requires.txt\n",
      "writing top-level names to nlp_profiler.egg-info/top_level.txt\n",
      "reading manifest file 'nlp_profiler.egg-info/SOURCES.txt'\n",
      "writing manifest file 'nlp_profiler.egg-info/SOURCES.txt'\n",
      "installing library code to build/bdist.macosx-10.7-x86_64/egg\n",
      "running install_lib\n",
      "running build_py\n",
      "creating build/bdist.macosx-10.7-x86_64/egg\n",
      "creating build/bdist.macosx-10.7-x86_64/egg/nlp_profiler\n",
      "copying build/lib/nlp_profiler/sentences.py -> build/bdist.macosx-10.7-x86_64/egg/nlp_profiler\n",
      "copying build/lib/nlp_profiler/duplicates.py -> build/bdist.macosx-10.7-x86_64/egg/nlp_profiler\n",
      "copying build/lib/nlp_profiler/punctuations.py -> build/bdist.macosx-10.7-x86_64/egg/nlp_profiler\n",
      "copying build/lib/nlp_profiler/spelling_quality_check.py -> build/bdist.macosx-10.7-x86_64/egg/nlp_profiler\n",
      "copying build/lib/nlp_profiler/constants.py -> build/bdist.macosx-10.7-x86_64/egg/nlp_profiler\n",
      "copying build/lib/nlp_profiler/grammar_quality_check.py -> build/bdist.macosx-10.7-x86_64/egg/nlp_profiler\n",
      "copying build/lib/nlp_profiler/__init__.py -> build/bdist.macosx-10.7-x86_64/egg/nlp_profiler\n",
      "copying build/lib/nlp_profiler/core.py -> build/bdist.macosx-10.7-x86_64/egg/nlp_profiler\n",
      "copying build/lib/nlp_profiler/numbers.py -> build/bdist.macosx-10.7-x86_64/egg/nlp_profiler\n",
      "copying build/lib/nlp_profiler/emojis.py -> build/bdist.macosx-10.7-x86_64/egg/nlp_profiler\n",
      "copying build/lib/nlp_profiler/sentiment_polarity.py -> build/bdist.macosx-10.7-x86_64/egg/nlp_profiler\n",
      "copying build/lib/nlp_profiler/words.py -> build/bdist.macosx-10.7-x86_64/egg/nlp_profiler\n",
      "copying build/lib/nlp_profiler/dates.py -> build/bdist.macosx-10.7-x86_64/egg/nlp_profiler\n",
      "copying build/lib/nlp_profiler/chars_and_spaces.py -> build/bdist.macosx-10.7-x86_64/egg/nlp_profiler\n",
      "copying build/lib/nlp_profiler/sentiment_subjectivity.py -> build/bdist.macosx-10.7-x86_64/egg/nlp_profiler\n",
      "copying build/lib/nlp_profiler/non_alphanumeric.py -> build/bdist.macosx-10.7-x86_64/egg/nlp_profiler\n",
      "copying build/lib/nlp_profiler/alphanumeric.py -> build/bdist.macosx-10.7-x86_64/egg/nlp_profiler\n",
      "copying build/lib/nlp_profiler/stop_words.py -> build/bdist.macosx-10.7-x86_64/egg/nlp_profiler\n",
      "creating build/bdist.macosx-10.7-x86_64/egg/slow_tests\n",
      "creating build/bdist.macosx-10.7-x86_64/egg/slow_tests/acceptance_tests\n",
      "copying build/lib/slow_tests/acceptance_tests/__init__.py -> build/bdist.macosx-10.7-x86_64/egg/slow_tests/acceptance_tests\n",
      "copying build/lib/slow_tests/acceptance_tests/test_apply_text_profiling.py -> build/bdist.macosx-10.7-x86_64/egg/slow_tests/acceptance_tests\n",
      "copying build/lib/slow_tests/__init__.py -> build/bdist.macosx-10.7-x86_64/egg/slow_tests\n",
      "creating build/bdist.macosx-10.7-x86_64/egg/slow_tests/high_level\n",
      "copying build/lib/slow_tests/high_level/__init__.py -> build/bdist.macosx-10.7-x86_64/egg/slow_tests/high_level\n",
      "copying build/lib/slow_tests/high_level/test_grammar_check.py -> build/bdist.macosx-10.7-x86_64/egg/slow_tests/high_level\n",
      "creating build/bdist.macosx-10.7-x86_64/egg/performance-tests\n",
      "copying build/lib/performance-tests/__init__.py -> build/bdist.macosx-10.7-x86_64/egg/performance-tests\n",
      "creating build/bdist.macosx-10.7-x86_64/egg/performance-tests/high_level\n",
      "copying build/lib/performance-tests/high_level/__init__.py -> build/bdist.macosx-10.7-x86_64/egg/performance-tests/high_level\n",
      "copying build/lib/performance-tests/high_level/test_perf_spelling_check.py -> build/bdist.macosx-10.7-x86_64/egg/performance-tests/high_level\n",
      "creating build/bdist.macosx-10.7-x86_64/egg/tests\n",
      "creating build/bdist.macosx-10.7-x86_64/egg/tests/granular\n",
      "copying build/lib/tests/granular/test_chars_and_spaces.py -> build/bdist.macosx-10.7-x86_64/egg/tests/granular\n",
      "copying build/lib/tests/granular/test_alphanumeric.py -> build/bdist.macosx-10.7-x86_64/egg/tests/granular\n",
      "copying build/lib/tests/granular/test_stop_words.py -> build/bdist.macosx-10.7-x86_64/egg/tests/granular\n",
      "copying build/lib/tests/granular/test_non_alphanumeric.py -> build/bdist.macosx-10.7-x86_64/egg/tests/granular\n",
      "copying build/lib/tests/granular/test_words.py -> build/bdist.macosx-10.7-x86_64/egg/tests/granular\n",
      "copying build/lib/tests/granular/test_dates.py -> build/bdist.macosx-10.7-x86_64/egg/tests/granular\n",
      "copying build/lib/tests/granular/test_numbers.py -> build/bdist.macosx-10.7-x86_64/egg/tests/granular\n",
      "copying build/lib/tests/granular/__init__.py -> build/bdist.macosx-10.7-x86_64/egg/tests/granular\n",
      "copying build/lib/tests/granular/test_sentences.py -> build/bdist.macosx-10.7-x86_64/egg/tests/granular\n",
      "copying build/lib/tests/granular/test_duplicates.py -> build/bdist.macosx-10.7-x86_64/egg/tests/granular\n",
      "copying build/lib/tests/granular/test_punctuations.py -> build/bdist.macosx-10.7-x86_64/egg/tests/granular\n",
      "copying build/lib/tests/granular/test_emojis.py -> build/bdist.macosx-10.7-x86_64/egg/tests/granular\n",
      "creating build/bdist.macosx-10.7-x86_64/egg/tests/acceptance_tests\n",
      "copying build/lib/tests/acceptance_tests/__init__.py -> build/bdist.macosx-10.7-x86_64/egg/tests/acceptance_tests\n",
      "copying build/lib/tests/acceptance_tests/test_apply_text_profiling.py -> build/bdist.macosx-10.7-x86_64/egg/tests/acceptance_tests\n",
      "copying build/lib/tests/__init__.py -> build/bdist.macosx-10.7-x86_64/egg/tests\n",
      "creating build/bdist.macosx-10.7-x86_64/egg/tests/high_level\n",
      "copying build/lib/tests/high_level/test_sentiment_polarity.py -> build/bdist.macosx-10.7-x86_64/egg/tests/high_level\n",
      "copying build/lib/tests/high_level/test_sentiment_subjectivity.py -> build/bdist.macosx-10.7-x86_64/egg/tests/high_level\n",
      "copying build/lib/tests/high_level/__init__.py -> build/bdist.macosx-10.7-x86_64/egg/tests/high_level\n",
      "copying build/lib/tests/high_level/test_spelling_check.py -> build/bdist.macosx-10.7-x86_64/egg/tests/high_level\n",
      "creating build/bdist.macosx-10.7-x86_64/egg/slow-tests\n",
      "creating build/bdist.macosx-10.7-x86_64/egg/slow-tests/performance_tests\n",
      "copying build/lib/slow-tests/performance_tests/__init__.py -> build/bdist.macosx-10.7-x86_64/egg/slow-tests/performance_tests\n",
      "copying build/lib/slow-tests/performance_tests/test_perf_spelling_check.py -> build/bdist.macosx-10.7-x86_64/egg/slow-tests/performance_tests\n",
      "creating build/bdist.macosx-10.7-x86_64/egg/slow-tests/acceptance_tests\n",
      "copying build/lib/slow-tests/acceptance_tests/__init__.py -> build/bdist.macosx-10.7-x86_64/egg/slow-tests/acceptance_tests\n",
      "copying build/lib/slow-tests/acceptance_tests/test_apply_text_profiling.py -> build/bdist.macosx-10.7-x86_64/egg/slow-tests/acceptance_tests\n",
      "copying build/lib/slow-tests/__init__.py -> build/bdist.macosx-10.7-x86_64/egg/slow-tests\n",
      "creating build/bdist.macosx-10.7-x86_64/egg/slow-tests/high_level\n",
      "copying build/lib/slow-tests/high_level/__init__.py -> build/bdist.macosx-10.7-x86_64/egg/slow-tests/high_level\n",
      "copying build/lib/slow-tests/high_level/test_grammar_check.py -> build/bdist.macosx-10.7-x86_64/egg/slow-tests/high_level\n",
      "byte-compiling build/bdist.macosx-10.7-x86_64/egg/nlp_profiler/sentences.py to sentences.cpython-37.pyc\n",
      "byte-compiling build/bdist.macosx-10.7-x86_64/egg/nlp_profiler/duplicates.py to duplicates.cpython-37.pyc\n",
      "byte-compiling build/bdist.macosx-10.7-x86_64/egg/nlp_profiler/punctuations.py to punctuations.cpython-37.pyc\n",
      "byte-compiling build/bdist.macosx-10.7-x86_64/egg/nlp_profiler/spelling_quality_check.py to spelling_quality_check.cpython-37.pyc\n",
      "byte-compiling build/bdist.macosx-10.7-x86_64/egg/nlp_profiler/constants.py to constants.cpython-37.pyc\n",
      "byte-compiling build/bdist.macosx-10.7-x86_64/egg/nlp_profiler/grammar_quality_check.py to grammar_quality_check.cpython-37.pyc\n",
      "byte-compiling build/bdist.macosx-10.7-x86_64/egg/nlp_profiler/__init__.py to __init__.cpython-37.pyc\n",
      "byte-compiling build/bdist.macosx-10.7-x86_64/egg/nlp_profiler/core.py to core.cpython-37.pyc\n",
      "byte-compiling build/bdist.macosx-10.7-x86_64/egg/nlp_profiler/numbers.py to numbers.cpython-37.pyc\n",
      "byte-compiling build/bdist.macosx-10.7-x86_64/egg/nlp_profiler/emojis.py to emojis.cpython-37.pyc\n",
      "byte-compiling build/bdist.macosx-10.7-x86_64/egg/nlp_profiler/sentiment_polarity.py to sentiment_polarity.cpython-37.pyc\n",
      "byte-compiling build/bdist.macosx-10.7-x86_64/egg/nlp_profiler/words.py to words.cpython-37.pyc\n",
      "byte-compiling build/bdist.macosx-10.7-x86_64/egg/nlp_profiler/dates.py to dates.cpython-37.pyc\n",
      "byte-compiling build/bdist.macosx-10.7-x86_64/egg/nlp_profiler/chars_and_spaces.py to chars_and_spaces.cpython-37.pyc\n",
      "byte-compiling build/bdist.macosx-10.7-x86_64/egg/nlp_profiler/sentiment_subjectivity.py to sentiment_subjectivity.cpython-37.pyc\n",
      "byte-compiling build/bdist.macosx-10.7-x86_64/egg/nlp_profiler/non_alphanumeric.py to non_alphanumeric.cpython-37.pyc\n",
      "byte-compiling build/bdist.macosx-10.7-x86_64/egg/nlp_profiler/alphanumeric.py to alphanumeric.cpython-37.pyc\n",
      "byte-compiling build/bdist.macosx-10.7-x86_64/egg/nlp_profiler/stop_words.py to stop_words.cpython-37.pyc\n",
      "byte-compiling build/bdist.macosx-10.7-x86_64/egg/slow_tests/acceptance_tests/__init__.py to __init__.cpython-37.pyc\n",
      "byte-compiling build/bdist.macosx-10.7-x86_64/egg/slow_tests/acceptance_tests/test_apply_text_profiling.py to test_apply_text_profiling.cpython-37.pyc\n",
      "byte-compiling build/bdist.macosx-10.7-x86_64/egg/slow_tests/__init__.py to __init__.cpython-37.pyc\n",
      "byte-compiling build/bdist.macosx-10.7-x86_64/egg/slow_tests/high_level/__init__.py to __init__.cpython-37.pyc\n",
      "byte-compiling build/bdist.macosx-10.7-x86_64/egg/slow_tests/high_level/test_grammar_check.py to test_grammar_check.cpython-37.pyc\n",
      "byte-compiling build/bdist.macosx-10.7-x86_64/egg/performance-tests/__init__.py to __init__.cpython-37.pyc\n",
      "byte-compiling build/bdist.macosx-10.7-x86_64/egg/performance-tests/high_level/__init__.py to __init__.cpython-37.pyc\n",
      "byte-compiling build/bdist.macosx-10.7-x86_64/egg/performance-tests/high_level/test_perf_spelling_check.py to test_perf_spelling_check.cpython-37.pyc\n",
      "byte-compiling build/bdist.macosx-10.7-x86_64/egg/tests/granular/test_chars_and_spaces.py to test_chars_and_spaces.cpython-37.pyc\n",
      "byte-compiling build/bdist.macosx-10.7-x86_64/egg/tests/granular/test_alphanumeric.py to test_alphanumeric.cpython-37.pyc\n",
      "byte-compiling build/bdist.macosx-10.7-x86_64/egg/tests/granular/test_stop_words.py to test_stop_words.cpython-37.pyc\n",
      "byte-compiling build/bdist.macosx-10.7-x86_64/egg/tests/granular/test_non_alphanumeric.py to test_non_alphanumeric.cpython-37.pyc\n",
      "byte-compiling build/bdist.macosx-10.7-x86_64/egg/tests/granular/test_words.py to test_words.cpython-37.pyc\n",
      "byte-compiling build/bdist.macosx-10.7-x86_64/egg/tests/granular/test_dates.py to test_dates.cpython-37.pyc\n",
      "byte-compiling build/bdist.macosx-10.7-x86_64/egg/tests/granular/test_numbers.py to test_numbers.cpython-37.pyc\n",
      "byte-compiling build/bdist.macosx-10.7-x86_64/egg/tests/granular/__init__.py to __init__.cpython-37.pyc\n",
      "byte-compiling build/bdist.macosx-10.7-x86_64/egg/tests/granular/test_sentences.py to test_sentences.cpython-37.pyc\n",
      "byte-compiling build/bdist.macosx-10.7-x86_64/egg/tests/granular/test_duplicates.py to test_duplicates.cpython-37.pyc\n",
      "byte-compiling build/bdist.macosx-10.7-x86_64/egg/tests/granular/test_punctuations.py to test_punctuations.cpython-37.pyc\n",
      "byte-compiling build/bdist.macosx-10.7-x86_64/egg/tests/granular/test_emojis.py to test_emojis.cpython-37.pyc\n",
      "byte-compiling build/bdist.macosx-10.7-x86_64/egg/tests/acceptance_tests/__init__.py to __init__.cpython-37.pyc\n",
      "byte-compiling build/bdist.macosx-10.7-x86_64/egg/tests/acceptance_tests/test_apply_text_profiling.py to test_apply_text_profiling.cpython-37.pyc\n",
      "byte-compiling build/bdist.macosx-10.7-x86_64/egg/tests/__init__.py to __init__.cpython-37.pyc\n",
      "byte-compiling build/bdist.macosx-10.7-x86_64/egg/tests/high_level/test_sentiment_polarity.py to test_sentiment_polarity.cpython-37.pyc\n",
      "byte-compiling build/bdist.macosx-10.7-x86_64/egg/tests/high_level/test_sentiment_subjectivity.py to test_sentiment_subjectivity.cpython-37.pyc\n",
      "byte-compiling build/bdist.macosx-10.7-x86_64/egg/tests/high_level/__init__.py to __init__.cpython-37.pyc\n",
      "byte-compiling build/bdist.macosx-10.7-x86_64/egg/tests/high_level/test_spelling_check.py to test_spelling_check.cpython-37.pyc\n",
      "byte-compiling build/bdist.macosx-10.7-x86_64/egg/slow-tests/performance_tests/__init__.py to __init__.cpython-37.pyc\n",
      "byte-compiling build/bdist.macosx-10.7-x86_64/egg/slow-tests/performance_tests/test_perf_spelling_check.py to test_perf_spelling_check.cpython-37.pyc\n",
      "byte-compiling build/bdist.macosx-10.7-x86_64/egg/slow-tests/acceptance_tests/__init__.py to __init__.cpython-37.pyc\n",
      "byte-compiling build/bdist.macosx-10.7-x86_64/egg/slow-tests/acceptance_tests/test_apply_text_profiling.py to test_apply_text_profiling.cpython-37.pyc\n",
      "byte-compiling build/bdist.macosx-10.7-x86_64/egg/slow-tests/__init__.py to __init__.cpython-37.pyc\n",
      "byte-compiling build/bdist.macosx-10.7-x86_64/egg/slow-tests/high_level/__init__.py to __init__.cpython-37.pyc\n",
      "byte-compiling build/bdist.macosx-10.7-x86_64/egg/slow-tests/high_level/test_grammar_check.py to test_grammar_check.cpython-37.pyc\n",
      "creating build/bdist.macosx-10.7-x86_64/egg/EGG-INFO\n",
      "copying nlp_profiler.egg-info/PKG-INFO -> build/bdist.macosx-10.7-x86_64/egg/EGG-INFO\n",
      "copying nlp_profiler.egg-info/SOURCES.txt -> build/bdist.macosx-10.7-x86_64/egg/EGG-INFO\n",
      "copying nlp_profiler.egg-info/dependency_links.txt -> build/bdist.macosx-10.7-x86_64/egg/EGG-INFO\n",
      "copying nlp_profiler.egg-info/requires.txt -> build/bdist.macosx-10.7-x86_64/egg/EGG-INFO\n",
      "copying nlp_profiler.egg-info/top_level.txt -> build/bdist.macosx-10.7-x86_64/egg/EGG-INFO\n",
      "creating 'dist/nlp_profiler-0.0.1-py3.7.egg' and adding 'build/bdist.macosx-10.7-x86_64/egg' to it\n",
      "removing 'build/bdist.macosx-10.7-x86_64/egg' (and everything under it)\n",
      "Processing nlp_profiler-0.0.1-py3.7.egg\n",
      "removing '/anaconda3/lib/python3.7/site-packages/nlp_profiler-0.0.1-py3.7.egg' (and everything under it)\n",
      "creating /anaconda3/lib/python3.7/site-packages/nlp_profiler-0.0.1-py3.7.egg\n",
      "Extracting nlp_profiler-0.0.1-py3.7.egg to /anaconda3/lib/python3.7/site-packages\n",
      "nlp-profiler 0.0.1 is already the active version in easy-install.pth\n",
      "\n",
      "Installed /anaconda3/lib/python3.7/site-packages/nlp_profiler-0.0.1-py3.7.egg\n",
      "Processing dependencies for nlp-profiler==0.0.1\n",
      "Searching for swifter==1.0.3\n",
      "Best match: swifter 1.0.3\n",
      "Processing swifter-1.0.3-py3.7.egg\n",
      "swifter 1.0.3 is already the active version in easy-install.pth\n",
      "\n",
      "Using /anaconda3/lib/python3.7/site-packages/swifter-1.0.3-py3.7.egg\n",
      "Searching for pandas==1.0.5\n",
      "Best match: pandas 1.0.5\n",
      "Adding pandas 1.0.5 to easy-install.pth file\n",
      "\n",
      "Using /anaconda3/lib/python3.7/site-packages\n",
      "Searching for ipython==7.12.0\n",
      "Best match: ipython 7.12.0\n",
      "Adding ipython 7.12.0 to easy-install.pth file\n",
      "Installing iptest script to /anaconda3/bin\n",
      "Installing iptest3 script to /anaconda3/bin\n",
      "Installing ipython script to /anaconda3/bin\n",
      "Installing ipython3 script to /anaconda3/bin\n",
      "\n",
      "Using /Users/swami/.local/lib/python3.7/site-packages\n",
      "Searching for joblib==0.14.1\n",
      "Best match: joblib 0.14.1\n",
      "Adding joblib 0.14.1 to easy-install.pth file\n",
      "\n",
      "Using /Users/swami/.local/lib/python3.7/site-packages\n",
      "Searching for tqdm==4.46.0\n",
      "Best match: tqdm 4.46.0\n",
      "Adding tqdm 4.46.0 to easy-install.pth file\n",
      "Installing tqdm script to /anaconda3/bin\n",
      "\n",
      "Using /anaconda3/lib/python3.7/site-packages\n",
      "Searching for emoji==0.5.4\n",
      "Best match: emoji 0.5.4\n",
      "Adding emoji 0.5.4 to easy-install.pth file\n",
      "\n",
      "Using /anaconda3/lib/python3.7/site-packages\n",
      "Searching for requests==2.23.0\n",
      "Best match: requests 2.23.0\n",
      "Adding requests 2.23.0 to easy-install.pth file\n",
      "\n",
      "Using /anaconda3/lib/python3.7/site-packages\n",
      "Searching for language-tool-python==2.3.1\n",
      "Best match: language-tool-python 2.3.1\n",
      "Adding language-tool-python 2.3.1 to easy-install.pth file\n",
      "\n",
      "Using /anaconda3/lib/python3.7/site-packages\n",
      "Searching for nltk==3.5\n",
      "Best match: nltk 3.5\n",
      "Adding nltk 3.5 to easy-install.pth file\n",
      "Installing nltk script to /anaconda3/bin\n",
      "\n",
      "Using /anaconda3/lib/python3.7/site-packages\n",
      "Searching for textblob==0.15.3\n",
      "Best match: textblob 0.15.3\n",
      "Adding textblob 0.15.3 to easy-install.pth file\n",
      "\n",
      "Using /anaconda3/lib/python3.7/site-packages\n",
      "Searching for psutil==5.7.0\n",
      "Best match: psutil 5.7.0\n",
      "Adding psutil 5.7.0 to easy-install.pth file\n",
      "\n",
      "Using /Users/swami/.local/lib/python3.7/site-packages\n",
      "Searching for parso==0.5.2\n",
      "Best match: parso 0.5.2\n",
      "Adding parso 0.5.2 to easy-install.pth file\n",
      "\n",
      "Using /Users/swami/.local/lib/python3.7/site-packages\n",
      "Searching for modin==0.8.0\n",
      "Best match: modin 0.8.0\n",
      "Processing modin-0.8.0-py3.7-macosx-10.7-x86_64.egg\n",
      "modin 0.8.0 is already the active version in easy-install.pth\n",
      "\n",
      "Using /anaconda3/lib/python3.7/site-packages/modin-0.8.0-py3.7-macosx-10.7-x86_64.egg\n",
      "Searching for ipywidgets==7.5.1\n",
      "Best match: ipywidgets 7.5.1\n",
      "Adding ipywidgets 7.5.1 to easy-install.pth file\n",
      "\n",
      "Using /Users/swami/.local/lib/python3.7/site-packages\n",
      "Searching for dask==2.9.1\n",
      "Best match: dask 2.9.1\n",
      "Adding dask 2.9.1 to easy-install.pth file\n",
      "\n",
      "Using /anaconda3/lib/python3.7/site-packages\n",
      "Searching for bleach==3.2.1\n",
      "Best match: bleach 3.2.1\n",
      "Processing bleach-3.2.1-py3.7.egg\n",
      "bleach 3.2.1 is already the active version in easy-install.pth\n",
      "\n",
      "Using /anaconda3/lib/python3.7/site-packages/bleach-3.2.1-py3.7.egg\n",
      "Searching for python-dateutil==2.8.1\n",
      "Best match: python-dateutil 2.8.1\n",
      "Adding python-dateutil 2.8.1 to easy-install.pth file\n",
      "\n",
      "Using /anaconda3/lib/python3.7/site-packages\n",
      "Searching for numpy==1.18.5\n",
      "Best match: numpy 1.18.5\n",
      "Adding numpy 1.18.5 to easy-install.pth file\n",
      "Installing f2py script to /anaconda3/bin\n",
      "Installing f2py3 script to /anaconda3/bin\n",
      "Installing f2py3.7 script to /anaconda3/bin\n",
      "\n",
      "Using /anaconda3/lib/python3.7/site-packages\n",
      "Searching for pytz==2020.1\n",
      "Best match: pytz 2020.1\n",
      "Adding pytz 2020.1 to easy-install.pth file\n",
      "\n",
      "Using /anaconda3/lib/python3.7/site-packages\n",
      "Searching for appnope==0.1.0\n",
      "Best match: appnope 0.1.0\n",
      "Adding appnope 0.1.0 to easy-install.pth file\n",
      "\n",
      "Using /anaconda3/lib/python3.7/site-packages\n",
      "Searching for pickleshare==0.7.5\n",
      "Best match: pickleshare 0.7.5\n",
      "Adding pickleshare 0.7.5 to easy-install.pth file\n",
      "\n",
      "Using /anaconda3/lib/python3.7/site-packages\n",
      "Searching for setuptools==46.1.3\n",
      "Best match: setuptools 46.1.3\n",
      "Adding setuptools 46.1.3 to easy-install.pth file\n",
      "Installing easy_install script to /anaconda3/bin\n",
      "Installing easy_install-3.8 script to /anaconda3/bin\n",
      "\n",
      "Using /Users/swami/.local/lib/python3.7/site-packages\n",
      "Searching for pexpect==4.6.0\n",
      "Best match: pexpect 4.6.0\n",
      "Adding pexpect 4.6.0 to easy-install.pth file\n",
      "\n",
      "Using /anaconda3/lib/python3.7/site-packages\n",
      "Searching for decorator==4.4.2\n",
      "Best match: decorator 4.4.2\n",
      "Adding decorator 4.4.2 to easy-install.pth file\n",
      "\n",
      "Using /anaconda3/lib/python3.7/site-packages\n",
      "Searching for Pygments==2.7.0\n",
      "Best match: Pygments 2.7.0\n",
      "Adding Pygments 2.7.0 to easy-install.pth file\n",
      "Installing pygmentize script to /anaconda3/bin\n",
      "\n",
      "Using /anaconda3/lib/python3.7/site-packages\n",
      "Searching for prompt-toolkit==2.0.10\n",
      "Best match: prompt-toolkit 2.0.10\n",
      "Adding prompt-toolkit 2.0.10 to easy-install.pth file\n",
      "\n",
      "Using /Users/swami/.local/lib/python3.7/site-packages\n",
      "Searching for backcall==0.1.0\n",
      "Best match: backcall 0.1.0\n",
      "Adding backcall 0.1.0 to easy-install.pth file\n",
      "\n",
      "Using /anaconda3/lib/python3.7/site-packages\n",
      "Searching for traitlets==4.3.2\n",
      "Best match: traitlets 4.3.2\n",
      "Adding traitlets 4.3.2 to easy-install.pth file\n",
      "\n",
      "Using /anaconda3/lib/python3.7/site-packages\n",
      "Searching for jedi==0.13.3\n",
      "Best match: jedi 0.13.3\n",
      "Adding jedi 0.13.3 to easy-install.pth file\n",
      "\n",
      "Using /anaconda3/lib/python3.7/site-packages\n",
      "Searching for urllib3==1.25.9\n",
      "Best match: urllib3 1.25.9\n",
      "Adding urllib3 1.25.9 to easy-install.pth file\n",
      "\n",
      "Using /anaconda3/lib/python3.7/site-packages\n",
      "Searching for certifi==2020.4.5.1\n",
      "Best match: certifi 2020.4.5.1\n",
      "Adding certifi 2020.4.5.1 to easy-install.pth file\n",
      "\n",
      "Using /anaconda3/lib/python3.7/site-packages\n",
      "Searching for chardet==3.0.4\n",
      "Best match: chardet 3.0.4\n",
      "Adding chardet 3.0.4 to easy-install.pth file\n",
      "Installing chardetect script to /anaconda3/bin\n",
      "\n",
      "Using /anaconda3/lib/python3.7/site-packages\n",
      "Searching for idna==2.9\n",
      "Best match: idna 2.9\n",
      "Adding idna 2.9 to easy-install.pth file\n",
      "\n",
      "Using /anaconda3/lib/python3.7/site-packages\n",
      "Searching for regex==2018.1.10\n",
      "Best match: regex 2018.1.10\n",
      "Adding regex 2018.1.10 to easy-install.pth file\n",
      "\n",
      "Using /anaconda3/lib/python3.7/site-packages\n",
      "Searching for Click==7.0\n",
      "Best match: Click 7.0\n",
      "Adding Click 7.0 to easy-install.pth file\n",
      "\n",
      "Using /anaconda3/lib/python3.7/site-packages\n",
      "Searching for ray==0.8.6\n",
      "Best match: ray 0.8.6\n",
      "Processing ray-0.8.6-py3.7-macosx-10.7-x86_64.egg\n",
      "ray 0.8.6 is already the active version in easy-install.pth\n",
      "\n",
      "Using /anaconda3/lib/python3.7/site-packages/ray-0.8.6-py3.7-macosx-10.7-x86_64.egg\n",
      "Searching for pyarrow==0.16.0\n",
      "Best match: pyarrow 0.16.0\n",
      "Adding pyarrow 0.16.0 to easy-install.pth file\n",
      "Installing plasma_store script to /anaconda3/bin\n",
      "\n",
      "Using /Users/swami/.local/lib/python3.7/site-packages\n",
      "Searching for packaging==20.3\n",
      "Best match: packaging 20.3\n",
      "Adding packaging 20.3 to easy-install.pth file\n",
      "\n",
      "Using /anaconda3/lib/python3.7/site-packages\n",
      "Searching for widgetsnbextension==3.5.1\n",
      "Best match: widgetsnbextension 3.5.1\n",
      "Adding widgetsnbextension 3.5.1 to easy-install.pth file\n",
      "\n",
      "Using /anaconda3/lib/python3.7/site-packages\n",
      "Searching for nbformat==4.4.0\n",
      "Best match: nbformat 4.4.0\n",
      "Adding nbformat 4.4.0 to easy-install.pth file\n",
      "Installing jupyter-trust script to /anaconda3/bin\n",
      "\n",
      "Using /anaconda3/lib/python3.7/site-packages\n",
      "Searching for ipykernel==5.3.4\n",
      "Best match: ipykernel 5.3.4\n",
      "Adding ipykernel 5.3.4 to easy-install.pth file\n",
      "\n",
      "Using /anaconda3/lib/python3.7/site-packages\n",
      "Searching for fsspec==0.6.2\n",
      "Best match: fsspec 0.6.2\n",
      "Adding fsspec 0.6.2 to easy-install.pth file\n",
      "\n",
      "Using /Users/swami/.local/lib/python3.7/site-packages\n",
      "Searching for bokeh==1.0.4\n",
      "Best match: bokeh 1.0.4\n",
      "Adding bokeh 1.0.4 to easy-install.pth file\n",
      "Installing bokeh script to /anaconda3/bin\n",
      "\n",
      "Using /anaconda3/lib/python3.7/site-packages\n",
      "Searching for cloudpickle==0.8.0\n",
      "Best match: cloudpickle 0.8.0\n",
      "Adding cloudpickle 0.8.0 to easy-install.pth file\n",
      "\n",
      "Using /anaconda3/lib/python3.7/site-packages\n",
      "Searching for distributed==2.9.1\n",
      "Best match: distributed 2.9.1\n",
      "Adding distributed 2.9.1 to easy-install.pth file\n",
      "Installing dask-ssh script to /anaconda3/bin\n",
      "Installing dask-scheduler script to /anaconda3/bin\n",
      "Installing dask-worker script to /anaconda3/bin\n",
      "\n",
      "Using /Users/swami/.local/lib/python3.7/site-packages\n",
      "Searching for toolz==0.9.0\n",
      "Best match: toolz 0.9.0\n",
      "Adding toolz 0.9.0 to easy-install.pth file\n",
      "\n",
      "Using /anaconda3/lib/python3.7/site-packages\n",
      "Searching for partd==1.1.0\n",
      "Best match: partd 1.1.0\n",
      "Adding partd 1.1.0 to easy-install.pth file\n",
      "\n",
      "Using /Users/swami/.local/lib/python3.7/site-packages\n",
      "Searching for PyYAML==5.3.1\n",
      "Best match: PyYAML 5.3.1\n",
      "Adding PyYAML 5.3.1 to easy-install.pth file\n",
      "\n",
      "Using /anaconda3/lib/python3.7/site-packages\n",
      "Searching for webencodings==0.5.1\n",
      "Best match: webencodings 0.5.1\n",
      "Adding webencodings 0.5.1 to easy-install.pth file\n",
      "\n",
      "Using /anaconda3/lib/python3.7/site-packages\n",
      "Searching for six==1.14.0\n",
      "Best match: six 1.14.0\n",
      "Adding six 1.14.0 to easy-install.pth file\n",
      "\n",
      "Using /anaconda3/lib/python3.7/site-packages\n",
      "Searching for ptyprocess==0.6.0\n",
      "Best match: ptyprocess 0.6.0\n",
      "Adding ptyprocess 0.6.0 to easy-install.pth file\n",
      "\n",
      "Using /anaconda3/lib/python3.7/site-packages\n",
      "Searching for wcwidth==0.1.9\n",
      "Best match: wcwidth 0.1.9\n",
      "Adding wcwidth 0.1.9 to easy-install.pth file\n",
      "\n",
      "Using /anaconda3/lib/python3.7/site-packages\n",
      "Searching for ipython-genutils==0.2.0\n",
      "Best match: ipython-genutils 0.2.0\n",
      "Adding ipython-genutils 0.2.0 to easy-install.pth file\n",
      "\n",
      "Using /anaconda3/lib/python3.7/site-packages\n",
      "Searching for pyparsing==2.4.7\n",
      "Best match: pyparsing 2.4.7\n",
      "Adding pyparsing 2.4.7 to easy-install.pth file\n",
      "\n",
      "Using /anaconda3/lib/python3.7/site-packages\n",
      "Searching for notebook==5.7.4\n",
      "Best match: notebook 5.7.4\n",
      "Adding notebook 5.7.4 to easy-install.pth file\n",
      "Installing jupyter-bundlerextension script to /anaconda3/bin\n",
      "Installing jupyter-nbextension script to /anaconda3/bin\n",
      "Installing jupyter-notebook script to /anaconda3/bin\n",
      "Installing jupyter-serverextension script to /anaconda3/bin\n",
      "\n",
      "Using /anaconda3/lib/python3.7/site-packages\n",
      "Searching for jupyter-core==4.6.1\n",
      "Best match: jupyter-core 4.6.1\n",
      "Adding jupyter-core 4.6.1 to easy-install.pth file\n",
      "Installing jupyter script to /anaconda3/bin\n",
      "Installing jupyter-migrate script to /anaconda3/bin\n",
      "Installing jupyter-troubleshoot script to /anaconda3/bin\n",
      "\n",
      "Using /Users/swami/.local/lib/python3.7/site-packages\n",
      "Searching for jsonschema==3.2.0\n",
      "Best match: jsonschema 3.2.0\n",
      "Adding jsonschema 3.2.0 to easy-install.pth file\n",
      "Installing jsonschema script to /anaconda3/bin\n",
      "\n",
      "Using /Users/swami/.local/lib/python3.7/site-packages\n",
      "Searching for tornado==5.1.1\n",
      "Best match: tornado 5.1.1\n",
      "Adding tornado 5.1.1 to easy-install.pth file\n",
      "\n",
      "Using /anaconda3/lib/python3.7/site-packages\n",
      "Searching for jupyter-client==5.3.4\n",
      "Best match: jupyter-client 5.3.4\n",
      "Adding jupyter-client 5.3.4 to easy-install.pth file\n",
      "Installing jupyter-kernel script to /anaconda3/bin\n",
      "Installing jupyter-kernelspec script to /anaconda3/bin\n",
      "Installing jupyter-run script to /anaconda3/bin\n",
      "\n",
      "Using /Users/swami/.local/lib/python3.7/site-packages\n",
      "Searching for Jinja2==2.10.3\n",
      "Best match: Jinja2 2.10.3\n",
      "Adding Jinja2 2.10.3 to easy-install.pth file\n",
      "\n",
      "Using /anaconda3/lib/python3.7/site-packages\n",
      "Searching for Pillow==6.2.0\n",
      "Best match: Pillow 6.2.0\n",
      "Adding Pillow 6.2.0 to easy-install.pth file\n",
      "\n",
      "Using /anaconda3/lib/python3.7/site-packages\n",
      "Searching for sortedcontainers==2.1.0\n",
      "Best match: sortedcontainers 2.1.0\n",
      "Adding sortedcontainers 2.1.0 to easy-install.pth file\n",
      "\n",
      "Using /anaconda3/lib/python3.7/site-packages\n",
      "Searching for msgpack==1.0.0\n",
      "Best match: msgpack 1.0.0\n",
      "Adding msgpack 1.0.0 to easy-install.pth file\n",
      "\n",
      "Using /anaconda3/lib/python3.7/site-packages\n",
      "Searching for zict==0.1.3\n",
      "Best match: zict 0.1.3\n",
      "Adding zict 0.1.3 to easy-install.pth file\n",
      "\n",
      "Using /anaconda3/lib/python3.7/site-packages\n",
      "Searching for tblib==1.3.2\n",
      "Best match: tblib 1.3.2\n",
      "Adding tblib 1.3.2 to easy-install.pth file\n",
      "\n",
      "Using /anaconda3/lib/python3.7/site-packages\n",
      "Searching for locket==0.2.0\n",
      "Best match: locket 0.2.0\n",
      "Adding locket 0.2.0 to easy-install.pth file\n",
      "\n",
      "Using /anaconda3/lib/python3.7/site-packages\n",
      "Searching for Send2Trash==1.5.0\n",
      "Best match: Send2Trash 1.5.0\n",
      "Adding Send2Trash 1.5.0 to easy-install.pth file\n",
      "\n",
      "Using /anaconda3/lib/python3.7/site-packages\n",
      "Searching for nbconvert==5.6.1\n",
      "Best match: nbconvert 5.6.1\n",
      "Adding nbconvert 5.6.1 to easy-install.pth file\n",
      "Installing jupyter-nbconvert script to /anaconda3/bin\n",
      "\n",
      "Using /anaconda3/lib/python3.7/site-packages\n",
      "Searching for terminado==0.8.1\n",
      "Best match: terminado 0.8.1\n",
      "Adding terminado 0.8.1 to easy-install.pth file\n",
      "\n",
      "Using /anaconda3/lib/python3.7/site-packages\n",
      "Searching for pyzmq==17.1.2\n",
      "Best match: pyzmq 17.1.2\n",
      "Adding pyzmq 17.1.2 to easy-install.pth file\n",
      "\n",
      "Using /anaconda3/lib/python3.7/site-packages\n",
      "Searching for prometheus-client==0.6.0\n",
      "Best match: prometheus-client 0.6.0\n",
      "Adding prometheus-client 0.6.0 to easy-install.pth file\n",
      "\n",
      "Using /anaconda3/lib/python3.7/site-packages\n",
      "Searching for importlib-metadata==1.6.0\n",
      "Best match: importlib-metadata 1.6.0\n",
      "Adding importlib-metadata 1.6.0 to easy-install.pth file\n",
      "\n",
      "Using /anaconda3/lib/python3.7/site-packages\n",
      "Searching for attrs==19.3.0\n",
      "Best match: attrs 19.3.0\n",
      "Adding attrs 19.3.0 to easy-install.pth file\n",
      "\n",
      "Using /anaconda3/lib/python3.7/site-packages\n",
      "Searching for pyrsistent==0.15.7\n",
      "Best match: pyrsistent 0.15.7\n",
      "Adding pyrsistent 0.15.7 to easy-install.pth file\n",
      "\n",
      "Using /Users/swami/.local/lib/python3.7/site-packages\n",
      "Searching for MarkupSafe==1.1.1\n",
      "Best match: MarkupSafe 1.1.1\n",
      "Adding MarkupSafe 1.1.1 to easy-install.pth file\n",
      "\n",
      "Using /anaconda3/lib/python3.7/site-packages\n",
      "Searching for heapdict==1.0.0\n",
      "Best match: heapdict 1.0.0\n",
      "Adding heapdict 1.0.0 to easy-install.pth file\n",
      "\n",
      "Using /anaconda3/lib/python3.7/site-packages\n",
      "Searching for defusedxml==0.5.0\n",
      "Best match: defusedxml 0.5.0\n",
      "Adding defusedxml 0.5.0 to easy-install.pth file\n",
      "\n",
      "Using /anaconda3/lib/python3.7/site-packages\n",
      "Searching for mistune==0.8.4\n",
      "Best match: mistune 0.8.4\n",
      "Adding mistune 0.8.4 to easy-install.pth file\n",
      "\n",
      "Using /anaconda3/lib/python3.7/site-packages\n",
      "Searching for entrypoints==0.3\n",
      "Best match: entrypoints 0.3\n",
      "Adding entrypoints 0.3 to easy-install.pth file\n",
      "\n",
      "Using /anaconda3/lib/python3.7/site-packages\n",
      "Searching for pandocfilters==1.4.2\n",
      "Best match: pandocfilters 1.4.2\n",
      "Adding pandocfilters 1.4.2 to easy-install.pth file\n",
      "\n",
      "Using /anaconda3/lib/python3.7/site-packages\n",
      "Searching for testpath==0.4.2\n",
      "Best match: testpath 0.4.2\n",
      "Adding testpath 0.4.2 to easy-install.pth file\n",
      "\n",
      "Using /anaconda3/lib/python3.7/site-packages\n",
      "Searching for zipp==3.1.0\n",
      "Best match: zipp 3.1.0\n",
      "Adding zipp 3.1.0 to easy-install.pth file\n",
      "\n",
      "Using /anaconda3/lib/python3.7/site-packages\n",
      "Finished processing dependencies for nlp-profiler==0.0.1\n",
      "Once successfully installed, please RESTART your Jupyter kernels or Colab runtimes for the changes to take effect\n"
     ]
    },
    {
     "name": "stderr",
     "output_type": "stream",
     "text": [
      "zip_safe flag not set; analyzing archive contents...\n",
      "performance-tests.high_level.__pycache__.test_perf_spelling_check.cpython-37: module references __file__\n",
      "slow-tests.acceptance_tests.__pycache__.test_apply_text_profiling.cpython-37: module references __file__\n",
      "slow-tests.performance_tests.__pycache__.test_perf_spelling_check.cpython-37: module references __file__\n",
      "slow_tests.acceptance_tests.__pycache__.test_apply_text_profiling.cpython-37: module references __file__\n",
      "tests.acceptance_tests.__pycache__.test_apply_text_profiling.cpython-37: module references __file__\n"
     ]
    }
   ],
   "source": [
    "%%bash\n",
    "\n",
    "# When running from inside this repo:\n",
    "# cd ../..\n",
    "# python setup.py install\n",
    "# or\n",
    "# pip install --prefix .\n",
    "\n",
    "# When running independently\n",
    "# pip install -U git+https://github.com/neomatrix369/nlp_profiler.git\n",
    "\n",
    "pip install nlp_profiler\n",
    "echo \"Once successfully installed, please RESTART your Jupyter kernels or Colab runtimes for the changes to take effect\""
   ]
  },
  {
   "cell_type": "code",
   "execution_count": 1,
   "metadata": {},
   "outputs": [],
   "source": [
    "import pandas as pd\n",
    "\n",
    "import sys\n",
    "sys.path.insert(0, '../..')"
   ]
  },
  {
   "cell_type": "code",
   "execution_count": 3,
   "metadata": {},
   "outputs": [
    {
     "name": "stderr",
     "output_type": "stream",
     "text": [
      "[nltk_data] Downloading package stopwords to /Users/swami/nltk_data...\n",
      "[nltk_data]   Package stopwords is already up-to-date!\n",
      "[nltk_data] Downloading package punkt to /Users/swami/nltk_data...\n",
      "[nltk_data]   Package punkt is already up-to-date!\n"
     ]
    }
   ],
   "source": [
    "from nlp_profiler.emojis import gather_emojis, count_emojis\n",
    "from nlp_profiler.numbers import gather_whole_numbers, count_whole_numbers\n",
    "from nlp_profiler.alphanumeric import gather_alpha_numeric, count_alpha_numeric\n",
    "from nlp_profiler.non_alphanumeric import gather_non_alpha_numeric, count_non_alpha_numeric\n",
    "from nlp_profiler.punctuations import gather_punctuations, count_punctuations\n",
    "from nlp_profiler.stop_words import gather_stop_words, count_stop_words\n",
    "from nlp_profiler.dates import gather_dates, count_dates\n",
    "from nlp_profiler.words import gather_words, count_words\n",
    "from nlp_profiler.duplicates import gather_duplicates, count_duplicates\n",
    "from nlp_profiler.sentences import gather_sentences, count_sentences\n",
    "from nlp_profiler.chars_and_spaces import count_chars, count_spaces, count_characters_excluding_spaces"
   ]
  },
  {
   "cell_type": "markdown",
   "metadata": {},
   "source": [
    "### Emojis"
   ]
  },
  {
   "cell_type": "code",
   "execution_count": 2,
   "metadata": {},
   "outputs": [],
   "source": [
    "text_with_emojis = \"I love ⚽ very much 😁\""
   ]
  },
  {
   "cell_type": "code",
   "execution_count": 3,
   "metadata": {},
   "outputs": [
    {
     "data": {
      "text/plain": [
       "['soccer_ball', 'beaming_face_with_smiling_eyes']"
      ]
     },
     "execution_count": 3,
     "metadata": {},
     "output_type": "execute_result"
    }
   ],
   "source": [
    "gather_emojis(text_with_emojis)"
   ]
  },
  {
   "cell_type": "code",
   "execution_count": 4,
   "metadata": {},
   "outputs": [
    {
     "data": {
      "text/plain": [
       "2"
      ]
     },
     "execution_count": 4,
     "metadata": {},
     "output_type": "execute_result"
    }
   ],
   "source": [
    "count_emojis(text_with_emojis)"
   ]
  },
  {
   "cell_type": "markdown",
   "metadata": {},
   "source": [
    "### Numbers"
   ]
  },
  {
   "cell_type": "code",
   "execution_count": 5,
   "metadata": {},
   "outputs": [],
   "source": [
    "text_with_a_number = '2833047 people live in this area'"
   ]
  },
  {
   "cell_type": "code",
   "execution_count": 6,
   "metadata": {},
   "outputs": [
    {
     "data": {
      "text/plain": [
       "['2833047']"
      ]
     },
     "execution_count": 6,
     "metadata": {},
     "output_type": "execute_result"
    }
   ],
   "source": [
    "gather_whole_numbers(text_with_a_number)"
   ]
  },
  {
   "cell_type": "code",
   "execution_count": 7,
   "metadata": {},
   "outputs": [
    {
     "data": {
      "text/plain": [
       "1"
      ]
     },
     "execution_count": 7,
     "metadata": {},
     "output_type": "execute_result"
    }
   ],
   "source": [
    "count_whole_numbers(text_with_a_number)"
   ]
  },
  {
   "cell_type": "code",
   "execution_count": 8,
   "metadata": {},
   "outputs": [],
   "source": [
    "text_with_two_numbers = '2833047 and 1111 people live in this area'"
   ]
  },
  {
   "cell_type": "code",
   "execution_count": 9,
   "metadata": {},
   "outputs": [
    {
     "data": {
      "text/plain": [
       "['2833047', '1111']"
      ]
     },
     "execution_count": 9,
     "metadata": {},
     "output_type": "execute_result"
    }
   ],
   "source": [
    "gather_whole_numbers(text_with_two_numbers)"
   ]
  },
  {
   "cell_type": "code",
   "execution_count": 10,
   "metadata": {},
   "outputs": [
    {
     "data": {
      "text/plain": [
       "2"
      ]
     },
     "execution_count": 10,
     "metadata": {},
     "output_type": "execute_result"
    }
   ],
   "source": [
    "count_whole_numbers(text_with_two_numbers)"
   ]
  },
  {
   "cell_type": "markdown",
   "metadata": {},
   "source": [
    "### Alphanumeric"
   ]
  },
  {
   "cell_type": "code",
   "execution_count": 11,
   "metadata": {},
   "outputs": [
    {
     "data": {
      "text/plain": [
       "['2',\n",
       " '8',\n",
       " '3',\n",
       " '3',\n",
       " '0',\n",
       " '4',\n",
       " '7',\n",
       " 'p',\n",
       " 'e',\n",
       " 'o',\n",
       " 'p',\n",
       " 'l',\n",
       " 'e',\n",
       " 'l',\n",
       " 'i',\n",
       " 'v',\n",
       " 'e',\n",
       " 'i',\n",
       " 'n',\n",
       " 't',\n",
       " 'h',\n",
       " 'i',\n",
       " 's',\n",
       " 'a',\n",
       " 'r',\n",
       " 'e',\n",
       " 'a']"
      ]
     },
     "execution_count": 11,
     "metadata": {},
     "output_type": "execute_result"
    }
   ],
   "source": [
    "gather_alpha_numeric(text_with_a_number)"
   ]
  },
  {
   "cell_type": "code",
   "execution_count": 12,
   "metadata": {},
   "outputs": [
    {
     "data": {
      "text/plain": [
       "27"
      ]
     },
     "execution_count": 12,
     "metadata": {},
     "output_type": "execute_result"
    }
   ],
   "source": [
    "count_alpha_numeric(text_with_a_number)"
   ]
  },
  {
   "cell_type": "markdown",
   "metadata": {},
   "source": [
    "### Non-alphanumeric"
   ]
  },
  {
   "cell_type": "code",
   "execution_count": 13,
   "metadata": {},
   "outputs": [
    {
     "data": {
      "text/plain": [
       "[' ', ' ', ' ', ' ', ' ']"
      ]
     },
     "execution_count": 13,
     "metadata": {},
     "output_type": "execute_result"
    }
   ],
   "source": [
    "gather_non_alpha_numeric(text_with_a_number)"
   ]
  },
  {
   "cell_type": "code",
   "execution_count": 14,
   "metadata": {},
   "outputs": [
    {
     "data": {
      "text/plain": [
       "[' ', ' ', '⚽', ' ', ' ', ' ', '😁']"
      ]
     },
     "execution_count": 14,
     "metadata": {},
     "output_type": "execute_result"
    }
   ],
   "source": [
    "gather_non_alpha_numeric(text_with_emojis)"
   ]
  },
  {
   "cell_type": "code",
   "execution_count": 15,
   "metadata": {},
   "outputs": [
    {
     "data": {
      "text/plain": [
       "5"
      ]
     },
     "execution_count": 15,
     "metadata": {},
     "output_type": "execute_result"
    }
   ],
   "source": [
    "count_non_alpha_numeric(text_with_a_number)"
   ]
  },
  {
   "cell_type": "code",
   "execution_count": 16,
   "metadata": {},
   "outputs": [
    {
     "data": {
      "text/plain": [
       "7"
      ]
     },
     "execution_count": 16,
     "metadata": {},
     "output_type": "execute_result"
    }
   ],
   "source": [
    "count_non_alpha_numeric(text_with_emojis)"
   ]
  },
  {
   "cell_type": "markdown",
   "metadata": {},
   "source": [
    "### Punctuations"
   ]
  },
  {
   "cell_type": "code",
   "execution_count": 17,
   "metadata": {},
   "outputs": [],
   "source": [
    "text_with_punctuations = \"This sentence doesn't seem to too many commas, periods or semi-colons (;).\""
   ]
  },
  {
   "cell_type": "code",
   "execution_count": 18,
   "metadata": {},
   "outputs": [
    {
     "data": {
      "text/plain": [
       "[\"'\", ',', '-', '(', ';', ')', '.']"
      ]
     },
     "execution_count": 18,
     "metadata": {},
     "output_type": "execute_result"
    }
   ],
   "source": [
    "gather_punctuations(text_with_punctuations)"
   ]
  },
  {
   "cell_type": "code",
   "execution_count": 19,
   "metadata": {},
   "outputs": [
    {
     "data": {
      "text/plain": [
       "7"
      ]
     },
     "execution_count": 19,
     "metadata": {},
     "output_type": "execute_result"
    }
   ],
   "source": [
    "count_punctuations(text_with_punctuations)"
   ]
  },
  {
   "cell_type": "markdown",
   "metadata": {},
   "source": [
    "### Stop words"
   ]
  },
  {
   "cell_type": "code",
   "execution_count": 20,
   "metadata": {},
   "outputs": [
    {
     "data": {
      "text/plain": [
       "['in', 'this']"
      ]
     },
     "execution_count": 20,
     "metadata": {},
     "output_type": "execute_result"
    }
   ],
   "source": [
    "gather_stop_words(text_with_a_number)"
   ]
  },
  {
   "cell_type": "code",
   "execution_count": 21,
   "metadata": {},
   "outputs": [
    {
     "data": {
      "text/plain": [
       "2"
      ]
     },
     "execution_count": 21,
     "metadata": {},
     "output_type": "execute_result"
    }
   ],
   "source": [
    "count_stop_words(text_with_a_number)"
   ]
  },
  {
   "cell_type": "markdown",
   "metadata": {},
   "source": [
    "### Dates"
   ]
  },
  {
   "cell_type": "code",
   "execution_count": 22,
   "metadata": {},
   "outputs": [],
   "source": [
    "text_with_date = \"Todays date is 04/28/2020 for format mm/dd/yyyy, not 28/04/2020\""
   ]
  },
  {
   "cell_type": "code",
   "execution_count": 23,
   "metadata": {},
   "outputs": [
    {
     "data": {
      "text/plain": [
       "[('28', '04', '2020')]"
      ]
     },
     "execution_count": 23,
     "metadata": {},
     "output_type": "execute_result"
    }
   ],
   "source": [
    "gather_dates(text_with_date)"
   ]
  },
  {
   "cell_type": "code",
   "execution_count": 24,
   "metadata": {},
   "outputs": [
    {
     "data": {
      "text/plain": [
       "[('04', '28', '2020')]"
      ]
     },
     "execution_count": 24,
     "metadata": {},
     "output_type": "execute_result"
    }
   ],
   "source": [
    "gather_dates(text_with_date, 'mm/dd/yyyy')"
   ]
  },
  {
   "cell_type": "code",
   "execution_count": 25,
   "metadata": {},
   "outputs": [],
   "source": [
    "text_with_dates = \"Todays date is 28/04/2020 and tomorrow's date is 29/04/2020\""
   ]
  },
  {
   "cell_type": "code",
   "execution_count": 26,
   "metadata": {},
   "outputs": [
    {
     "data": {
      "text/plain": [
       "[('28', '04', '2020'), ('29', '04', '2020')]"
      ]
     },
     "execution_count": 26,
     "metadata": {},
     "output_type": "execute_result"
    }
   ],
   "source": [
    "gather_dates(text_with_dates)"
   ]
  },
  {
   "cell_type": "code",
   "execution_count": 27,
   "metadata": {},
   "outputs": [
    {
     "data": {
      "text/plain": [
       "2"
      ]
     },
     "execution_count": 27,
     "metadata": {},
     "output_type": "execute_result"
    }
   ],
   "source": [
    "count_dates(text_with_dates)"
   ]
  },
  {
   "cell_type": "markdown",
   "metadata": {},
   "source": [
    "### Words count"
   ]
  },
  {
   "cell_type": "code",
   "execution_count": 28,
   "metadata": {},
   "outputs": [
    {
     "data": {
      "text/plain": [
       "['people', 'live', 'in', 'this', 'area']"
      ]
     },
     "execution_count": 28,
     "metadata": {},
     "output_type": "execute_result"
    }
   ],
   "source": [
    "gather_words(text_with_a_number)"
   ]
  },
  {
   "cell_type": "code",
   "execution_count": 29,
   "metadata": {},
   "outputs": [
    {
     "data": {
      "text/plain": [
       "5"
      ]
     },
     "execution_count": 29,
     "metadata": {},
     "output_type": "execute_result"
    }
   ],
   "source": [
    "words_count(text_with_a_number)"
   ]
  },
  {
   "cell_type": "markdown",
   "metadata": {},
   "source": [
    "### Sentences"
   ]
  },
  {
   "cell_type": "code",
   "execution_count": 45,
   "metadata": {},
   "outputs": [
    {
     "data": {
      "text/plain": [
       "['I love ⚽ very much 😁']"
      ]
     },
     "execution_count": 45,
     "metadata": {},
     "output_type": "execute_result"
    }
   ],
   "source": [
    "gather_sentences(text_with_emojis)"
   ]
  },
  {
   "cell_type": "code",
   "execution_count": 46,
   "metadata": {},
   "outputs": [
    {
     "data": {
      "text/plain": [
       "1"
      ]
     },
     "execution_count": 46,
     "metadata": {},
     "output_type": "execute_result"
    }
   ],
   "source": [
    "count_sentences(text_with_emojis)"
   ]
  },
  {
   "cell_type": "code",
   "execution_count": 32,
   "metadata": {},
   "outputs": [
    {
     "data": {
      "text/plain": [
       "['2833047 people live in this area']"
      ]
     },
     "execution_count": 30,
     "metadata": {},
     "output_type": "execute_result"
    }
   ],
   "source": [
    "gather_sentences(text_with_a_number)"
   ]
  },
  {
   "cell_type": "code",
   "execution_count": 31,
   "metadata": {},
   "outputs": [
    {
     "data": {
      "text/plain": [
       "1"
      ]
     },
     "execution_count": 31,
     "metadata": {},
     "output_type": "execute_result"
    }
   ],
   "source": [
    "count_sentences(text_with_a_number)"
   ]
  },
  {
   "cell_type": "code",
   "execution_count": 32,
   "metadata": {},
   "outputs": [],
   "source": [
    "text_with_two_sentences = text_with_a_number + \". \" + text_with_emojis"
   ]
  },
  {
   "cell_type": "code",
   "execution_count": 33,
   "metadata": {},
   "outputs": [
    {
     "data": {
      "text/plain": [
       "['2833047 people live in this area.', 'I love ⚽ very much 😁']"
      ]
     },
     "execution_count": 33,
     "metadata": {},
     "output_type": "execute_result"
    }
   ],
   "source": [
    "gather_sentences(text_with_two_sentences)"
   ]
  },
  {
   "cell_type": "code",
   "execution_count": 34,
   "metadata": {},
   "outputs": [
    {
     "data": {
      "text/plain": [
       "2"
      ]
     },
     "execution_count": 34,
     "metadata": {},
     "output_type": "execute_result"
    }
   ],
   "source": [
    "count_sentences(text_with_two_sentences)"
   ]
  },
  {
   "cell_type": "markdown",
   "metadata": {},
   "source": [
    "### Characters"
   ]
  },
  {
   "cell_type": "code",
   "execution_count": 35,
   "metadata": {},
   "outputs": [
    {
     "data": {
      "text/plain": [
       "32"
      ]
     },
     "execution_count": 35,
     "metadata": {},
     "output_type": "execute_result"
    }
   ],
   "source": [
    "len(text_with_a_number)"
   ]
  },
  {
   "cell_type": "markdown",
   "metadata": {},
   "source": [
    "### Number of spaces, Number of characters without spaces"
   ]
  },
  {
   "cell_type": "code",
   "execution_count": 36,
   "metadata": {},
   "outputs": [
    {
     "data": {
      "text/plain": [
       "5"
      ]
     },
     "execution_count": 36,
     "metadata": {},
     "output_type": "execute_result"
    }
   ],
   "source": [
    "count_spaces(text_with_a_number)"
   ]
  },
  {
   "cell_type": "code",
   "execution_count": 37,
   "metadata": {},
   "outputs": [
    {
     "data": {
      "text/plain": [
       "27"
      ]
     },
     "execution_count": 37,
     "metadata": {},
     "output_type": "execute_result"
    }
   ],
   "source": [
    "count_characters_excluding_spaces(text_with_a_number)"
   ]
  },
  {
   "cell_type": "markdown",
   "metadata": {},
   "source": [
    "### Duplicates"
   ]
  },
  {
   "cell_type": "code",
   "execution_count": 38,
   "metadata": {},
   "outputs": [
    {
     "data": {
      "text/plain": [
       "{}"
      ]
     },
     "execution_count": 38,
     "metadata": {},
     "output_type": "execute_result"
    }
   ],
   "source": [
    "gather_duplicates(text_with_a_number)"
   ]
  },
  {
   "cell_type": "code",
   "execution_count": 39,
   "metadata": {},
   "outputs": [],
   "source": [
    "text_with_duplicates = 'Everyone here is so hardworking. hardworking people. I think hardworking people are a good trait in our company'"
   ]
  },
  {
   "cell_type": "code",
   "execution_count": 40,
   "metadata": {},
   "outputs": [
    {
     "name": "stdout",
     "output_type": "stream",
     "text": [
      "{'.': 2, 'hardworking': 3, 'people': 2}\n"
     ]
    },
    {
     "data": {
      "text/plain": [
       "3"
      ]
     },
     "execution_count": 40,
     "metadata": {},
     "output_type": "execute_result"
    }
   ],
   "source": [
    "print(gather_duplicates(text_with_duplicates))\n",
    "count_duplicates(text_with_duplicates)"
   ]
  },
  {
   "cell_type": "markdown",
   "metadata": {},
   "source": [
    "### Resources\n",
    "\n",
    "- https://www.kaggle.com/raenish/cheatsheet-text-helper-functions"
   ]
  }
 ],
 "metadata": {
  "kernelspec": {
   "display_name": "Python 3",
   "language": "python",
   "name": "python3"
  },
  "language_info": {
   "codemirror_mode": {
    "name": "ipython",
    "version": 3
   },
   "file_extension": ".py",
   "mimetype": "text/x-python",
   "name": "python",
   "nbconvert_exporter": "python",
   "pygments_lexer": "ipython3",
   "version": "3.8.5"
  }
 },
 "nbformat": 4,
 "nbformat_minor": 4
}